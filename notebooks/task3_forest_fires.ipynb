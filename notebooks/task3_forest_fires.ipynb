{
 "cells": [
  {
   "cell_type": "code",
   "execution_count": 13,
   "id": "c24cb935",
   "metadata": {},
   "outputs": [
    {
     "name": "stdout",
     "output_type": "stream",
     "text": [
      "Первые 5 строк данных:\n"
     ]
    },
    {
     "data": {
      "text/html": [
       "<div>\n",
       "<style scoped>\n",
       "    .dataframe tbody tr th:only-of-type {\n",
       "        vertical-align: middle;\n",
       "    }\n",
       "\n",
       "    .dataframe tbody tr th {\n",
       "        vertical-align: top;\n",
       "    }\n",
       "\n",
       "    .dataframe thead th {\n",
       "        text-align: right;\n",
       "    }\n",
       "</style>\n",
       "<table border=\"1\" class=\"dataframe\">\n",
       "  <thead>\n",
       "    <tr style=\"text-align: right;\">\n",
       "      <th></th>\n",
       "      <th>X</th>\n",
       "      <th>Y</th>\n",
       "      <th>month</th>\n",
       "      <th>day</th>\n",
       "      <th>FFMC</th>\n",
       "      <th>DMC</th>\n",
       "      <th>DC</th>\n",
       "      <th>ISI</th>\n",
       "      <th>temp</th>\n",
       "      <th>RH</th>\n",
       "      <th>wind</th>\n",
       "      <th>rain</th>\n",
       "      <th>area</th>\n",
       "    </tr>\n",
       "  </thead>\n",
       "  <tbody>\n",
       "    <tr>\n",
       "      <th>0</th>\n",
       "      <td>7</td>\n",
       "      <td>5</td>\n",
       "      <td>mar</td>\n",
       "      <td>fri</td>\n",
       "      <td>86.2</td>\n",
       "      <td>26.2</td>\n",
       "      <td>94.3</td>\n",
       "      <td>5.1</td>\n",
       "      <td>8.2</td>\n",
       "      <td>51</td>\n",
       "      <td>6.7</td>\n",
       "      <td>0.0</td>\n",
       "      <td>0.0</td>\n",
       "    </tr>\n",
       "    <tr>\n",
       "      <th>1</th>\n",
       "      <td>7</td>\n",
       "      <td>4</td>\n",
       "      <td>oct</td>\n",
       "      <td>tue</td>\n",
       "      <td>90.6</td>\n",
       "      <td>35.4</td>\n",
       "      <td>669.1</td>\n",
       "      <td>6.7</td>\n",
       "      <td>18.0</td>\n",
       "      <td>33</td>\n",
       "      <td>0.9</td>\n",
       "      <td>0.0</td>\n",
       "      <td>0.0</td>\n",
       "    </tr>\n",
       "    <tr>\n",
       "      <th>2</th>\n",
       "      <td>7</td>\n",
       "      <td>4</td>\n",
       "      <td>oct</td>\n",
       "      <td>sat</td>\n",
       "      <td>90.6</td>\n",
       "      <td>43.7</td>\n",
       "      <td>686.9</td>\n",
       "      <td>6.7</td>\n",
       "      <td>14.6</td>\n",
       "      <td>33</td>\n",
       "      <td>1.3</td>\n",
       "      <td>0.0</td>\n",
       "      <td>0.0</td>\n",
       "    </tr>\n",
       "    <tr>\n",
       "      <th>3</th>\n",
       "      <td>8</td>\n",
       "      <td>6</td>\n",
       "      <td>mar</td>\n",
       "      <td>fri</td>\n",
       "      <td>91.7</td>\n",
       "      <td>33.3</td>\n",
       "      <td>77.5</td>\n",
       "      <td>9.0</td>\n",
       "      <td>8.3</td>\n",
       "      <td>97</td>\n",
       "      <td>4.0</td>\n",
       "      <td>0.2</td>\n",
       "      <td>0.0</td>\n",
       "    </tr>\n",
       "    <tr>\n",
       "      <th>4</th>\n",
       "      <td>8</td>\n",
       "      <td>6</td>\n",
       "      <td>mar</td>\n",
       "      <td>sun</td>\n",
       "      <td>89.3</td>\n",
       "      <td>51.3</td>\n",
       "      <td>102.2</td>\n",
       "      <td>9.6</td>\n",
       "      <td>11.4</td>\n",
       "      <td>99</td>\n",
       "      <td>1.8</td>\n",
       "      <td>0.0</td>\n",
       "      <td>0.0</td>\n",
       "    </tr>\n",
       "  </tbody>\n",
       "</table>\n",
       "</div>"
      ],
      "text/plain": [
       "   X  Y month  day  FFMC   DMC     DC  ISI  temp  RH  wind  rain  area\n",
       "0  7  5   mar  fri  86.2  26.2   94.3  5.1   8.2  51   6.7   0.0   0.0\n",
       "1  7  4   oct  tue  90.6  35.4  669.1  6.7  18.0  33   0.9   0.0   0.0\n",
       "2  7  4   oct  sat  90.6  43.7  686.9  6.7  14.6  33   1.3   0.0   0.0\n",
       "3  8  6   mar  fri  91.7  33.3   77.5  9.0   8.3  97   4.0   0.2   0.0\n",
       "4  8  6   mar  sun  89.3  51.3  102.2  9.6  11.4  99   1.8   0.0   0.0"
      ]
     },
     "metadata": {},
     "output_type": "display_data"
    }
   ],
   "source": [
    "import pandas as pd\n",
    "import numpy as np\n",
    "from sklearn.linear_model import LinearRegression\n",
    "from sklearn.metrics import mean_squared_error\n",
    "from sklearn.model_selection import train_test_split\n",
    "from sklearn.preprocessing import StandardScaler\n",
    "import matplotlib.pyplot as plt\n",
    "\n",
    "# Загрузка данных\n",
    "df = pd.read_csv('../data/forestfires.csv')\n",
    "print(\"Первые 5 строк данных:\")\n",
    "display(df.head())"
   ]
  },
  {
   "cell_type": "markdown",
   "id": "5ec03b34",
   "metadata": {},
   "source": [
    "1. Предобработка данных"
   ]
  },
  {
   "cell_type": "code",
   "execution_count": 14,
   "id": "3c5166e7",
   "metadata": {},
   "outputs": [],
   "source": [
    "# Преобразование месяца в индикатор летнего сезона (июнь-сентябрь)\n",
    "summer_months = ['jun', 'jul', 'aug', 'sep']\n",
    "df['summer'] = df['month'].apply(lambda x: 1 if x in summer_months else 0)\n",
    "\n",
    "# Удаление ненужных столбцов\n",
    "df = df.drop(['month', 'day'], axis=1)\n",
    "\n",
    "# Добавление константного признака\n",
    "df['const'] = 1\n",
    "\n",
    "# Логарифмирование целевой переменной (area) с добавлением константы c\n",
    "def transform_area(x, c=1):\n",
    "    return np.log(x + c)\n",
    "\n",
    "# Разделение на признаки и целевую переменную\n",
    "X = df.drop('area', axis=1)\n",
    "y = df['area']\n",
    "\n",
    "# Разделение данных на обучающую и тестовую выборки (70:30)\n",
    "X_train, X_test, y_train, y_test = train_test_split(X, y, test_size=0.3, random_state=42)"
   ]
  },
  {
   "cell_type": "markdown",
   "id": "29c64c03",
   "metadata": {},
   "source": [
    "2. Построение базовой модели"
   ]
  },
  {
   "cell_type": "code",
   "execution_count": 15,
   "id": "f9a9c3bc",
   "metadata": {},
   "outputs": [
    {
     "name": "stdout",
     "output_type": "stream",
     "text": [
      "Базовая модель MSE: 7925.7311\n"
     ]
    }
   ],
   "source": [
    "# Модель для исходных данных\n",
    "model = LinearRegression()\n",
    "model.fit(X_train, y_train)\n",
    "\n",
    "# Предсказание и оценка качества\n",
    "y_pred = model.predict(X_test)\n",
    "mse = mean_squared_error(y_test, y_pred)\n",
    "print(f\"Базовая модель MSE: {mse:.4f}\")"
   ]
  },
  {
   "cell_type": "markdown",
   "id": "f3c8190e",
   "metadata": {},
   "source": [
    "3. Модель с преобразованием целевой переменной"
   ]
  },
  {
   "cell_type": "code",
   "execution_count": 16,
   "id": "3acb2180",
   "metadata": {},
   "outputs": [
    {
     "data": {
      "image/png": "[encoded data removed]",
      "text/plain": [
       "<Figure size 1000x600 with 1 Axes>"
      ]
     },
     "metadata": {},
     "output_type": "display_data"
    },
    {
     "name": "stdout",
     "output_type": "stream",
     "text": [
      "Оптимальное значение c: 2.00\n"
     ]
    }
   ],
   "source": [
    "# Подбор оптимального параметра c для преобразования\n",
    "c_values = np.linspace(0.1, 2, 20)\n",
    "mse_values = []\n",
    "\n",
    "for c in c_values:\n",
    "    # Преобразование целевой переменной\n",
    "    y_train_transformed = transform_area(y_train, c)\n",
    "    \n",
    "    # Обучение модели\n",
    "    model_transformed = LinearRegression()\n",
    "    model_transformed.fit(X_train, y_train_transformed)\n",
    "    \n",
    "    # Предсказание и обратное преобразование\n",
    "    y_pred_transformed = model_transformed.predict(X_test)\n",
    "    y_pred_original = np.exp(y_pred_transformed) - c\n",
    "    \n",
    "    # Оценка качества\n",
    "    mse_values.append(mean_squared_error(y_test, y_pred_original))\n",
    "\n",
    "# Визуализация зависимости MSE от c\n",
    "plt.figure(figsize=(10, 6))\n",
    "plt.plot(c_values, mse_values, 'o-')\n",
    "plt.xlabel('Значение параметра c')\n",
    "plt.ylabel('MSE')\n",
    "plt.title('Зависимость MSE от параметра преобразования c')\n",
    "plt.grid(True)\n",
    "plt.show()\n",
    "\n",
    "# Оптимальное значение c\n",
    "optimal_c = c_values[np.argmin(mse_values)]\n",
    "print(f\"Оптимальное значение c: {optimal_c:.2f}\")"
   ]
  },
  {
   "cell_type": "markdown",
   "id": "d7930506",
   "metadata": {},
   "source": [
    "4. Проверка устойчивости модели"
   ]
  },
  {
   "cell_type": "code",
   "execution_count": 17,
   "id": "2b18b5e5",
   "metadata": {},
   "outputs": [
    {
     "name": "stdout",
     "output_type": "stream",
     "text": [
      "Результаты при разных разбиениях:\n",
      "Среднее MSE: 3807.0089\n",
      "Стандартное отклонение MSE: 2542.1107\n"
     ]
    }
   ],
   "source": [
    "# Многократное разбиение данных с оптимальным c\n",
    "mse_results = []\n",
    "\n",
    "for i in range(10):\n",
    "    # Новое разбиение\n",
    "    X_train, X_test, y_train, y_test = train_test_split(X, y, test_size=0.3, random_state=i)\n",
    "    \n",
    "    # Преобразование с оптимальным c\n",
    "    y_train_transformed = transform_area(y_train, optimal_c)\n",
    "    \n",
    "    # Обучение и предсказание\n",
    "    model = LinearRegression()\n",
    "    model.fit(X_train, y_train_transformed)\n",
    "    y_pred_transformed = model.predict(X_test)\n",
    "    y_pred_original = np.exp(y_pred_transformed) - optimal_c\n",
    "    \n",
    "    mse_results.append(mean_squared_error(y_test, y_pred_original))\n",
    "\n",
    "# Результаты\n",
    "print(\"Результаты при разных разбиениях:\")\n",
    "print(f\"Среднее MSE: {np.mean(mse_results):.4f}\")\n",
    "print(f\"Стандартное отклонение MSE: {np.std(mse_results):.4f}\")"
   ]
  },
  {
   "cell_type": "markdown",
   "id": "95695e32",
   "metadata": {},
   "source": [
    "5. Анализ важности признаков"
   ]
  },
  {
   "cell_type": "code",
   "execution_count": 18,
   "id": "47197bd6",
   "metadata": {},
   "outputs": [
    {
     "name": "stdout",
     "output_type": "stream",
     "text": [
      "\n",
      "Важность признаков:\n"
     ]
    },
    {
     "data": {
      "text/html": [
       "<div>\n",
       "<style scoped>\n",
       "    .dataframe tbody tr th:only-of-type {\n",
       "        vertical-align: middle;\n",
       "    }\n",
       "\n",
       "    .dataframe tbody tr th {\n",
       "        vertical-align: top;\n",
       "    }\n",
       "\n",
       "    .dataframe thead th {\n",
       "        text-align: right;\n",
       "    }\n",
       "</style>\n",
       "<table border=\"1\" class=\"dataframe\">\n",
       "  <thead>\n",
       "    <tr style=\"text-align: right;\">\n",
       "      <th></th>\n",
       "      <th>feature</th>\n",
       "      <th>coefficient</th>\n",
       "    </tr>\n",
       "  </thead>\n",
       "  <tbody>\n",
       "    <tr>\n",
       "      <th>10</th>\n",
       "      <td>summer</td>\n",
       "      <td>-0.111695</td>\n",
       "    </tr>\n",
       "    <tr>\n",
       "      <th>8</th>\n",
       "      <td>wind</td>\n",
       "      <td>0.060422</td>\n",
       "    </tr>\n",
       "    <tr>\n",
       "      <th>9</th>\n",
       "      <td>rain</td>\n",
       "      <td>0.044026</td>\n",
       "    </tr>\n",
       "    <tr>\n",
       "      <th>0</th>\n",
       "      <td>X</td>\n",
       "      <td>0.034406</td>\n",
       "    </tr>\n",
       "    <tr>\n",
       "      <th>5</th>\n",
       "      <td>ISI</td>\n",
       "      <td>-0.019174</td>\n",
       "    </tr>\n",
       "    <tr>\n",
       "      <th>1</th>\n",
       "      <td>Y</td>\n",
       "      <td>0.006558</td>\n",
       "    </tr>\n",
       "    <tr>\n",
       "      <th>2</th>\n",
       "      <td>FFMC</td>\n",
       "      <td>0.005244</td>\n",
       "    </tr>\n",
       "    <tr>\n",
       "      <th>6</th>\n",
       "      <td>temp</td>\n",
       "      <td>0.005218</td>\n",
       "    </tr>\n",
       "    <tr>\n",
       "      <th>7</th>\n",
       "      <td>RH</td>\n",
       "      <td>-0.004348</td>\n",
       "    </tr>\n",
       "    <tr>\n",
       "      <th>3</th>\n",
       "      <td>DMC</td>\n",
       "      <td>0.001206</td>\n",
       "    </tr>\n",
       "    <tr>\n",
       "      <th>4</th>\n",
       "      <td>DC</td>\n",
       "      <td>0.000314</td>\n",
       "    </tr>\n",
       "    <tr>\n",
       "      <th>11</th>\n",
       "      <td>const</td>\n",
       "      <td>0.000000</td>\n",
       "    </tr>\n",
       "  </tbody>\n",
       "</table>\n",
       "</div>"
      ],
      "text/plain": [
       "   feature  coefficient\n",
       "10  summer    -0.111695\n",
       "8     wind     0.060422\n",
       "9     rain     0.044026\n",
       "0        X     0.034406\n",
       "5      ISI    -0.019174\n",
       "1        Y     0.006558\n",
       "2     FFMC     0.005244\n",
       "6     temp     0.005218\n",
       "7       RH    -0.004348\n",
       "3      DMC     0.001206\n",
       "4       DC     0.000314\n",
       "11   const     0.000000"
      ]
     },
     "metadata": {},
     "output_type": "display_data"
    }
   ],
   "source": [
    "# Обучение финальной модели на всех данных\n",
    "y_transformed = transform_area(y, optimal_c)\n",
    "final_model = LinearRegression()\n",
    "final_model.fit(X, y_transformed)\n",
    "\n",
    "# Коэффициенты модели\n",
    "coef_df = pd.DataFrame({\n",
    "    'feature': X.columns,\n",
    "    'coefficient': final_model.coef_\n",
    "}).sort_values('coefficient', key=abs, ascending=False)\n",
    "\n",
    "print(\"\\nВажность признаков:\")\n",
    "display(coef_df)"
   ]
  },
  {
   "cell_type": "markdown",
   "id": "aef84c40",
   "metadata": {},
   "source": [
    "сохранение результатов"
   ]
  },
  {
   "cell_type": "code",
   "execution_count": 19,
   "id": "04992b84",
   "metadata": {},
   "outputs": [],
   "source": [
    "# Сохранение результатов\n",
    "results = {\n",
    "    'optimal_c': float(optimal_c),\n",
    "    'base_mse': float(mse),\n",
    "    'transformed_mse': float(np.min(mse_values)),\n",
    "    'mse_std': float(np.std(mse_results)),\n",
    "    'important_features': coef_df.head(3).to_dict()\n",
    "}\n",
    "\n",
    "import json\n",
    "with open('../results/task3_results.json', 'w') as f:\n",
    "    json.dump(results, f, indent=2)"
   ]
  }
 ],
 "metadata": {
  "kernelspec": {
   "display_name": "base",
   "language": "python",
   "name": "python3"
  },
  "language_info": {
   "codemirror_mode": {
    "name": "ipython",
    "version": 3
   },
   "file_extension": ".py",
   "mimetype": "text/x-python",
   "name": "python",
   "nbconvert_exporter": "python",
   "pygments_lexer": "ipython3",
   "version": "3.12.3"
  }
 },
 "nbformat": 4,
 "nbformat_minor": 5
}
