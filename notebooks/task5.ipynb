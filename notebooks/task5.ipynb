{
  "cells": [
    {
      "cell_type": "code",
      "execution_count": null,
      "id": "ed137089",
      "metadata": {
        "id": "ed137089"
      },
      "outputs": [],
      "source": [
        "# если блок падает с ошибкой, раскомментируйте эту строчку и перезапустите ноутбук\n",
        "# !pip install numpy pandas matplotlib scipy sklearn\n",
        "\n",
        "import enum\n",
        "\n",
        "import numpy as np\n",
        "import pandas as pd\n",
        "import matplotlib.pyplot as plt\n",
        "import scipy.stats as sts\n",
        "from sklearn import linear_model, metrics, model_selection\n",
        "from sklearn.datasets import fetch_california_housing\n",
        "%matplotlib inline"
      ]
    },
    {
      "cell_type": "markdown",
      "id": "53c29eee",
      "metadata": {
        "id": "53c29eee"
      },
      "source": [
        "## Цены на жильё"
      ]
    },
    {
      "cell_type": "markdown",
      "id": "02709216",
      "metadata": {
        "id": "02709216"
      },
      "source": [
        "Это пятая задача второго ДЗ блока по статистике. Она важна тем, что показывает, как мыслить в анализе данных (в частности в машинном обучении) статистически. "
      ]
    },
    {
      "cell_type": "markdown",
      "id": "8f273e95",
      "metadata": {
        "id": "8f273e95"
      },
      "source": [
        "Мы будем работать с готовым датасетом `California Housing` - это данные о ценах на жильё в Калифорнии вместе с разными характеристиками жилья, например количество комнат или широта расположения."
      ]
    },
    {
      "cell_type": "code",
      "execution_count": null,
      "id": "98d24303",
      "metadata": {
        "id": "98d24303"
      },
      "outputs": [],
      "source": [
        "data = fetch_california_housing(as_frame=True)"
      ]
    },
    {
      "cell_type": "code",
      "execution_count": null,
      "id": "af977f8e",
      "metadata": {
        "id": "af977f8e"
      },
      "outputs": [],
      "source": [
        "X = data['data']\n",
        "y = data['target']"
      ]
    },
    {
      "cell_type": "markdown",
      "id": "e750942f",
      "metadata": {
        "id": "e750942f"
      },
      "source": [
        "Здесь $X$ - это данные о жилье (матрица признаков), $y$ - стоимость. Обе эти переменные - это объекты класса `DataFrame` библиотеки pandas, которую очень любят аналитики. Она красиво отображает таблицы и позволяет удобно проводить операции над табличными данными."
      ]
    },
    {
      "cell_type": "code",
      "execution_count": null,
      "id": "82089073",
      "metadata": {
        "id": "82089073",
        "outputId": "6eee59e7-c7e3-446d-a61a-98a02e48e3c6"
      },
      "outputs": [
        {
          "data": {
            "text/html": [
              "<div>\n",
              "<style scoped>\n",
              "    .dataframe tbody tr th:only-of-type {\n",
              "        vertical-align: middle;\n",
              "    }\n",
              "\n",
              "    .dataframe tbody tr th {\n",
              "        vertical-align: top;\n",
              "    }\n",
              "\n",
              "    .dataframe thead th {\n",
              "        text-align: right;\n",
              "    }\n",
              "</style>\n",
              "<table border=\"1\" class=\"dataframe\">\n",
              "  <thead>\n",
              "    <tr style=\"text-align: right;\">\n",
              "      <th></th>\n",
              "      <th>MedInc</th>\n",
              "      <th>HouseAge</th>\n",
              "      <th>AveRooms</th>\n",
              "      <th>AveBedrms</th>\n",
              "      <th>Population</th>\n",
              "      <th>AveOccup</th>\n",
              "      <th>Latitude</th>\n",
              "      <th>Longitude</th>\n",
              "    </tr>\n",
              "  </thead>\n",
              "  <tbody>\n",
              "    <tr>\n",
              "      <th>0</th>\n",
              "      <td>8.3252</td>\n",
              "      <td>41.0</td>\n",
              "      <td>6.984127</td>\n",
              "      <td>1.023810</td>\n",
              "      <td>322.0</td>\n",
              "      <td>2.555556</td>\n",
              "      <td>37.88</td>\n",
              "      <td>-122.23</td>\n",
              "    </tr>\n",
              "    <tr>\n",
              "      <th>1</th>\n",
              "      <td>8.3014</td>\n",
              "      <td>21.0</td>\n",
              "      <td>6.238137</td>\n",
              "      <td>0.971880</td>\n",
              "      <td>2401.0</td>\n",
              "      <td>2.109842</td>\n",
              "      <td>37.86</td>\n",
              "      <td>-122.22</td>\n",
              "    </tr>\n",
              "    <tr>\n",
              "      <th>2</th>\n",
              "      <td>7.2574</td>\n",
              "      <td>52.0</td>\n",
              "      <td>8.288136</td>\n",
              "      <td>1.073446</td>\n",
              "      <td>496.0</td>\n",
              "      <td>2.802260</td>\n",
              "      <td>37.85</td>\n",
              "      <td>-122.24</td>\n",
              "    </tr>\n",
              "    <tr>\n",
              "      <th>3</th>\n",
              "      <td>5.6431</td>\n",
              "      <td>52.0</td>\n",
              "      <td>5.817352</td>\n",
              "      <td>1.073059</td>\n",
              "      <td>558.0</td>\n",
              "      <td>2.547945</td>\n",
              "      <td>37.85</td>\n",
              "      <td>-122.25</td>\n",
              "    </tr>\n",
              "    <tr>\n",
              "      <th>4</th>\n",
              "      <td>3.8462</td>\n",
              "      <td>52.0</td>\n",
              "      <td>6.281853</td>\n",
              "      <td>1.081081</td>\n",
              "      <td>565.0</td>\n",
              "      <td>2.181467</td>\n",
              "      <td>37.85</td>\n",
              "      <td>-122.25</td>\n",
              "    </tr>\n",
              "    <tr>\n",
              "      <th>...</th>\n",
              "      <td>...</td>\n",
              "      <td>...</td>\n",
              "      <td>...</td>\n",
              "      <td>...</td>\n",
              "      <td>...</td>\n",
              "      <td>...</td>\n",
              "      <td>...</td>\n",
              "      <td>...</td>\n",
              "    </tr>\n",
              "    <tr>\n",
              "      <th>20635</th>\n",
              "      <td>1.5603</td>\n",
              "      <td>25.0</td>\n",
              "      <td>5.045455</td>\n",
              "      <td>1.133333</td>\n",
              "      <td>845.0</td>\n",
              "      <td>2.560606</td>\n",
              "      <td>39.48</td>\n",
              "      <td>-121.09</td>\n",
              "    </tr>\n",
              "    <tr>\n",
              "      <th>20636</th>\n",
              "      <td>2.5568</td>\n",
              "      <td>18.0</td>\n",
              "      <td>6.114035</td>\n",
              "      <td>1.315789</td>\n",
              "      <td>356.0</td>\n",
              "      <td>3.122807</td>\n",
              "      <td>39.49</td>\n",
              "      <td>-121.21</td>\n",
              "    </tr>\n",
              "    <tr>\n",
              "      <th>20637</th>\n",
              "      <td>1.7000</td>\n",
              "      <td>17.0</td>\n",
              "      <td>5.205543</td>\n",
              "      <td>1.120092</td>\n",
              "      <td>1007.0</td>\n",
              "      <td>2.325635</td>\n",
              "      <td>39.43</td>\n",
              "      <td>-121.22</td>\n",
              "    </tr>\n",
              "    <tr>\n",
              "      <th>20638</th>\n",
              "      <td>1.8672</td>\n",
              "      <td>18.0</td>\n",
              "      <td>5.329513</td>\n",
              "      <td>1.171920</td>\n",
              "      <td>741.0</td>\n",
              "      <td>2.123209</td>\n",
              "      <td>39.43</td>\n",
              "      <td>-121.32</td>\n",
              "    </tr>\n",
              "    <tr>\n",
              "      <th>20639</th>\n",
              "      <td>2.3886</td>\n",
              "      <td>16.0</td>\n",
              "      <td>5.254717</td>\n",
              "      <td>1.162264</td>\n",
              "      <td>1387.0</td>\n",
              "      <td>2.616981</td>\n",
              "      <td>39.37</td>\n",
              "      <td>-121.24</td>\n",
              "    </tr>\n",
              "  </tbody>\n",
              "</table>\n",
              "<p>20640 rows × 8 columns</p>\n",
              "</div>"
            ],
            "text/plain": [
              "       MedInc  HouseAge  AveRooms  AveBedrms  Population  AveOccup  Latitude  \\\n",
              "0      8.3252      41.0  6.984127   1.023810       322.0  2.555556     37.88   \n",
              "1      8.3014      21.0  6.238137   0.971880      2401.0  2.109842     37.86   \n",
              "2      7.2574      52.0  8.288136   1.073446       496.0  2.802260     37.85   \n",
              "3      5.6431      52.0  5.817352   1.073059       558.0  2.547945     37.85   \n",
              "4      3.8462      52.0  6.281853   1.081081       565.0  2.181467     37.85   \n",
              "...       ...       ...       ...        ...         ...       ...       ...   \n",
              "20635  1.5603      25.0  5.045455   1.133333       845.0  2.560606     39.48   \n",
              "20636  2.5568      18.0  6.114035   1.315789       356.0  3.122807     39.49   \n",
              "20637  1.7000      17.0  5.205543   1.120092      1007.0  2.325635     39.43   \n",
              "20638  1.8672      18.0  5.329513   1.171920       741.0  2.123209     39.43   \n",
              "20639  2.3886      16.0  5.254717   1.162264      1387.0  2.616981     39.37   \n",
              "\n",
              "       Longitude  \n",
              "0        -122.23  \n",
              "1        -122.22  \n",
              "2        -122.24  \n",
              "3        -122.25  \n",
              "4        -122.25  \n",
              "...          ...  \n",
              "20635    -121.09  \n",
              "20636    -121.21  \n",
              "20637    -121.22  \n",
              "20638    -121.32  \n",
              "20639    -121.24  \n",
              "\n",
              "[20640 rows x 8 columns]"
            ]
          },
          "execution_count": 141,
          "metadata": {},
          "output_type": "execute_result"
        }
      ],
      "source": [
        "X"
      ]
    },
    {
      "cell_type": "code",
      "execution_count": null,
      "id": "24a55668",
      "metadata": {
        "id": "24a55668",
        "outputId": "3e6b26bf-5f4c-4749-f0ce-074fb63ed77b"
      },
      "outputs": [
        {
          "data": {
            "text/plain": [
              "0        4.526\n",
              "1        3.585\n",
              "2        3.521\n",
              "3        3.413\n",
              "4        3.422\n",
              "         ...  \n",
              "20635    0.781\n",
              "20636    0.771\n",
              "20637    0.923\n",
              "20638    0.847\n",
              "20639    0.894\n",
              "Name: MedHouseVal, Length: 20640, dtype: float64"
            ]
          },
          "execution_count": 142,
          "metadata": {},
          "output_type": "execute_result"
        }
      ],
      "source": [
        "y"
      ]
    },
    {
      "cell_type": "markdown",
      "id": "6f24359f",
      "metadata": {
        "id": "6f24359f"
      },
      "source": [
        "Так можно посмотреть на свойства распределений значений по колонкам - среднее, стандартное отклонение и выборочные квантили."
      ]
    },
    {
      "cell_type": "code",
      "execution_count": null,
      "id": "980c52de",
      "metadata": {
        "id": "980c52de",
        "outputId": "4be0c724-db55-4477-baf3-a1fe4e15490c"
      },
      "outputs": [
        {
          "data": {
            "text/html": [
              "<div>\n",
              "<style scoped>\n",
              "    .dataframe tbody tr th:only-of-type {\n",
              "        vertical-align: middle;\n",
              "    }\n",
              "\n",
              "    .dataframe tbody tr th {\n",
              "        vertical-align: top;\n",
              "    }\n",
              "\n",
              "    .dataframe thead th {\n",
              "        text-align: right;\n",
              "    }\n",
              "</style>\n",
              "<table border=\"1\" class=\"dataframe\">\n",
              "  <thead>\n",
              "    <tr style=\"text-align: right;\">\n",
              "      <th></th>\n",
              "      <th>MedInc</th>\n",
              "      <th>HouseAge</th>\n",
              "      <th>AveRooms</th>\n",
              "      <th>AveBedrms</th>\n",
              "      <th>Population</th>\n",
              "      <th>AveOccup</th>\n",
              "      <th>Latitude</th>\n",
              "      <th>Longitude</th>\n",
              "    </tr>\n",
              "  </thead>\n",
              "  <tbody>\n",
              "    <tr>\n",
              "      <th>count</th>\n",
              "      <td>20640.000000</td>\n",
              "      <td>20640.000000</td>\n",
              "      <td>20640.000000</td>\n",
              "      <td>20640.000000</td>\n",
              "      <td>20640.000000</td>\n",
              "      <td>20640.000000</td>\n",
              "      <td>20640.000000</td>\n",
              "      <td>20640.000000</td>\n",
              "    </tr>\n",
              "    <tr>\n",
              "      <th>mean</th>\n",
              "      <td>3.870671</td>\n",
              "      <td>28.639486</td>\n",
              "      <td>5.429000</td>\n",
              "      <td>1.096675</td>\n",
              "      <td>1425.476744</td>\n",
              "      <td>3.070655</td>\n",
              "      <td>35.631861</td>\n",
              "      <td>-119.569704</td>\n",
              "    </tr>\n",
              "    <tr>\n",
              "      <th>std</th>\n",
              "      <td>1.899822</td>\n",
              "      <td>12.585558</td>\n",
              "      <td>2.474173</td>\n",
              "      <td>0.473911</td>\n",
              "      <td>1132.462122</td>\n",
              "      <td>10.386050</td>\n",
              "      <td>2.135952</td>\n",
              "      <td>2.003532</td>\n",
              "    </tr>\n",
              "    <tr>\n",
              "      <th>min</th>\n",
              "      <td>0.499900</td>\n",
              "      <td>1.000000</td>\n",
              "      <td>0.846154</td>\n",
              "      <td>0.333333</td>\n",
              "      <td>3.000000</td>\n",
              "      <td>0.692308</td>\n",
              "      <td>32.540000</td>\n",
              "      <td>-124.350000</td>\n",
              "    </tr>\n",
              "    <tr>\n",
              "      <th>25%</th>\n",
              "      <td>2.563400</td>\n",
              "      <td>18.000000</td>\n",
              "      <td>4.440716</td>\n",
              "      <td>1.006079</td>\n",
              "      <td>787.000000</td>\n",
              "      <td>2.429741</td>\n",
              "      <td>33.930000</td>\n",
              "      <td>-121.800000</td>\n",
              "    </tr>\n",
              "    <tr>\n",
              "      <th>50%</th>\n",
              "      <td>3.534800</td>\n",
              "      <td>29.000000</td>\n",
              "      <td>5.229129</td>\n",
              "      <td>1.048780</td>\n",
              "      <td>1166.000000</td>\n",
              "      <td>2.818116</td>\n",
              "      <td>34.260000</td>\n",
              "      <td>-118.490000</td>\n",
              "    </tr>\n",
              "    <tr>\n",
              "      <th>75%</th>\n",
              "      <td>4.743250</td>\n",
              "      <td>37.000000</td>\n",
              "      <td>6.052381</td>\n",
              "      <td>1.099526</td>\n",
              "      <td>1725.000000</td>\n",
              "      <td>3.282261</td>\n",
              "      <td>37.710000</td>\n",
              "      <td>-118.010000</td>\n",
              "    </tr>\n",
              "    <tr>\n",
              "      <th>max</th>\n",
              "      <td>15.000100</td>\n",
              "      <td>52.000000</td>\n",
              "      <td>141.909091</td>\n",
              "      <td>34.066667</td>\n",
              "      <td>35682.000000</td>\n",
              "      <td>1243.333333</td>\n",
              "      <td>41.950000</td>\n",
              "      <td>-114.310000</td>\n",
              "    </tr>\n",
              "  </tbody>\n",
              "</table>\n",
              "</div>"
            ],
            "text/plain": [
              "             MedInc      HouseAge      AveRooms     AveBedrms    Population  \\\n",
              "count  20640.000000  20640.000000  20640.000000  20640.000000  20640.000000   \n",
              "mean       3.870671     28.639486      5.429000      1.096675   1425.476744   \n",
              "std        1.899822     12.585558      2.474173      0.473911   1132.462122   \n",
              "min        0.499900      1.000000      0.846154      0.333333      3.000000   \n",
              "25%        2.563400     18.000000      4.440716      1.006079    787.000000   \n",
              "50%        3.534800     29.000000      5.229129      1.048780   1166.000000   \n",
              "75%        4.743250     37.000000      6.052381      1.099526   1725.000000   \n",
              "max       15.000100     52.000000    141.909091     34.066667  35682.000000   \n",
              "\n",
              "           AveOccup      Latitude     Longitude  \n",
              "count  20640.000000  20640.000000  20640.000000  \n",
              "mean       3.070655     35.631861   -119.569704  \n",
              "std       10.386050      2.135952      2.003532  \n",
              "min        0.692308     32.540000   -124.350000  \n",
              "25%        2.429741     33.930000   -121.800000  \n",
              "50%        2.818116     34.260000   -118.490000  \n",
              "75%        3.282261     37.710000   -118.010000  \n",
              "max     1243.333333     41.950000   -114.310000  "
            ]
          },
          "execution_count": 143,
          "metadata": {},
          "output_type": "execute_result"
        }
      ],
      "source": [
        "X.describe()"
      ]
    },
    {
      "cell_type": "code",
      "execution_count": null,
      "id": "4da04056",
      "metadata": {
        "id": "4da04056",
        "outputId": "52287f74-bbb5-4719-cc5a-c3bbf1caa6e0"
      },
      "outputs": [
        {
          "data": {
            "text/plain": [
              "count    20640.000000\n",
              "mean         2.068558\n",
              "std          1.153956\n",
              "min          0.149990\n",
              "25%          1.196000\n",
              "50%          1.797000\n",
              "75%          2.647250\n",
              "max          5.000010\n",
              "Name: MedHouseVal, dtype: float64"
            ]
          },
          "execution_count": 144,
          "metadata": {},
          "output_type": "execute_result"
        }
      ],
      "source": [
        "y.describe()"
      ]
    },
    {
      "cell_type": "markdown",
      "id": "2b6c4a9e",
      "metadata": {
        "id": "2b6c4a9e"
      },
      "source": [
        "### 1. Решаем регрессию"
      ]
    },
    {
      "cell_type": "markdown",
      "id": "2065b364",
      "metadata": {
        "id": "2065b364"
      },
      "source": [
        "Мы построим статистическую модель на этих данных и проверим её качество. Чтобы быть уверенными, что качество репрезентативно, сразу отделим часть данных так, как будто проверяем модель \"в боевых действиях\" - есть данные, на которых модель строится, а есть те, на которых она проверяется (это классическое для анализа данных разделение на train и test)"
      ]
    },
    {
      "cell_type": "code",
      "execution_count": null,
      "id": "1e8cccb4",
      "metadata": {
        "id": "1e8cccb4"
      },
      "outputs": [],
      "source": [
        "X_train, X_test, y_train, y_test = model_selection.train_test_split(X, y, test_size=0.33, random_state=42)"
      ]
    },
    {
      "cell_type": "markdown",
      "id": "24c2b5e0",
      "metadata": {
        "id": "24c2b5e0"
      },
      "source": [
        "Применим к данным модель линейной регрессии. Пусть $\\epsilon$ - вектор независимых случайных величин, $\\epsilon_i \\sim \\mathcal N(0, \\sigma^2)$. $X$ - матрица размера $N_1\\times p$, где $N_1$ - размер тренировочной выборки, $p$ - количество признаков каждого элемента. Тогда,\n",
        "\n",
        "$y = X\\beta + \\epsilon$."
      ]
    },
    {
      "cell_type": "markdown",
      "id": "9d7d5afa",
      "metadata": {
        "id": "9d7d5afa"
      },
      "source": [
        "1. Для начала проверим наше предположение. Графически проверьте зависимость переменной $y$ от разных признаков $X$."
      ]
    },
    {
      "cell_type": "code",
      "execution_count": null,
      "id": "56aa58c2",
      "metadata": {
        "id": "56aa58c2"
      },
      "outputs": [],
      "source": [
        "# чтобы извлечь из Х отдельный признак, достаточно обратиться к нему по ключу:\n",
        "ave_rooms = X_train['AveRooms']\n",
        "# чтобы получить список всех признаков:\n",
        "all_names = X_train.columns"
      ]
    },
    {
      "cell_type": "code",
      "execution_count": null,
      "id": "2ee02acd",
      "metadata": {
        "id": "2ee02acd"
      },
      "outputs": [],
      "source": [
        "# ваши графики и мысли"
      ]
    },
    {
      "cell_type": "markdown",
      "id": "e6fad669",
      "metadata": {
        "id": "e6fad669"
      },
      "source": [
        "2. Вспомним решение задачи линейной регрессии методом наименьших квадратов:\n",
        "\n",
        "$\\hat{\\beta} = (X^TX)^{-1}X^Ty$"
      ]
    },
    {
      "cell_type": "code",
      "execution_count": null,
      "id": "bb3af669",
      "metadata": {
        "id": "bb3af669"
      },
      "outputs": [],
      "source": [
        "# вычислите оценку. помните, что для построения модели мы пользуемся только тренировочной частью выборки\n",
        "# hat_beta = # используйте X_train, y_train"
      ]
    },
    {
      "cell_type": "markdown",
      "id": "1d11d00c",
      "metadata": {
        "id": "1d11d00c"
      },
      "source": [
        "Теперь, нам приходят новые данные $X_t$ (X_test). Предсказанием для них в нашей модели, очевидно, будет\n",
        "\n",
        "$\\hat{y_t} = X_t\\hat{\\beta}$.\n",
        "\n",
        "Теперь сравним $y_t$ (y_test) и $\\hat{y_t}$. Для этого вычислим сумму квадратов наших ошибок \n",
        "\n",
        "$e = \\sum_{i=1}^n(y_{ti} - \\hat{y_t}_i)^2$."
      ]
    },
    {
      "cell_type": "code",
      "execution_count": null,
      "id": "c901f534",
      "metadata": {
        "id": "c901f534"
      },
      "outputs": [],
      "source": [
        "# вычислите предсказание модели и ошибку\n",
        "\n",
        "# эта ошибка большая или маленькая? а в процентном соотношении?"
      ]
    },
    {
      "cell_type": "markdown",
      "id": "f68cd06c",
      "metadata": {
        "id": "f68cd06c"
      },
      "source": [
        "В нашем предположении тренировочные и тестовые данные имеют одно и то же распределение, то есть если $N_2$ - размер тестовой выборки, а $\\epsilon_t$ - вектор независимых случайных величин с распределением $\\mathcal N(0, \\sigma^2)$ размера $N_2$, то справедливо\n",
        "\n",
        "$y = X\\beta + \\epsilon$,\n",
        "\n",
        "$y_t = X_t\\beta + \\epsilon_t$.\n",
        "\n",
        "3. Проверьте удачность выбора модели статистическим тестом. Воспользуйтесь критерием Вальда и проверьте гипотезу $H_0: \\beta = \\hat{\\beta}$ для тренировочной и тестовой выборки. В качестве подсказки - выборка $Z_i = y_i - X_i\\beta$ имеет нормальное распределение с параметрами $0, \\sigma^2$. Вместо дисперсии шума можно взять его состоятельную оценку."
      ]
    },
    {
      "cell_type": "code",
      "execution_count": null,
      "id": "a1cad034",
      "metadata": {
        "id": "a1cad034"
      },
      "outputs": [],
      "source": []
    },
    {
      "cell_type": "markdown",
      "id": "89dabbb8",
      "metadata": {
        "id": "89dabbb8"
      },
      "source": [
        "Отвергается ли гипотеза? При каком уровне доверия можно сказать, что построенная модель не подходит для предсказаний на тестовой выборке?"
      ]
    },
    {
      "cell_type": "markdown",
      "id": "a8ca2216",
      "metadata": {
        "id": "a8ca2216"
      },
      "source": [
        "### 2. Применяем регрессию"
      ]
    },
    {
      "cell_type": "markdown",
      "id": "f592b4ff",
      "metadata": {
        "id": "f592b4ff"
      },
      "source": [
        "Воспользуемся готовой линейной регрессией и сравним результаты. "
      ]
    },
    {
      "cell_type": "code",
      "execution_count": null,
      "id": "f0372222",
      "metadata": {
        "id": "f0372222"
      },
      "outputs": [],
      "source": [
        "lr = linear_model.LinearRegression()\n",
        "# примените регрессию и получите предсказания\n",
        "# y_pred = "
      ]
    },
    {
      "cell_type": "markdown",
      "id": "2f4cf398",
      "metadata": {
        "id": "2f4cf398"
      },
      "source": [
        "Для получения значения ошибки есть готовая функция."
      ]
    },
    {
      "cell_type": "code",
      "execution_count": null,
      "id": "c73b3a30",
      "metadata": {
        "id": "c73b3a30"
      },
      "outputs": [],
      "source": [
        "# metrics.mean_squared_error(y_pred, y_test)"
      ]
    },
    {
      "cell_type": "markdown",
      "id": "f3f01c3b",
      "metadata": {
        "id": "f3f01c3b"
      },
      "source": [
        "Какой метод оказался лучше - from scratch или готовый? Как вы думаете, почему?"
      ]
    },
    {
      "cell_type": "markdown",
      "id": "8f988e0f",
      "metadata": {
        "id": "8f988e0f"
      },
      "source": [
        "### 3. Улучшаем результаты?"
      ]
    },
    {
      "cell_type": "markdown",
      "id": "ff8aa8af",
      "metadata": {
        "id": "ff8aa8af"
      },
      "source": [
        "На самом деле, можно улучшить результаты применения нашей модели. Для этого нужно выяснить, являются ли признаки в данных скореллированными и исключить такие признаки, если они есть. \n",
        "Объяснение этого выходит за рамки нашего блока, так как требует рассмотрения самих данных $X$ как случайных величин."
      ]
    },
    {
      "cell_type": "markdown",
      "id": "fe72e295",
      "metadata": {
        "id": "fe72e295"
      },
      "source": [
        "Для каждой пары признаков найдите коэффициенты корреляции Пирсона и Спирмэна. Сделать это для двух выборок $X, Y$ можно так:"
      ]
    },
    {
      "cell_type": "code",
      "execution_count": null,
      "id": "643beea9",
      "metadata": {
        "id": "643beea9"
      },
      "outputs": [],
      "source": [
        "# corr_pearson = sts.pearsonr(X, Y)[0]\n",
        "# corr_spearman = sts.spearmanr(X, Y)[0]"
      ]
    },
    {
      "cell_type": "code",
      "execution_count": null,
      "id": "b3f81edf",
      "metadata": {
        "id": "b3f81edf"
      },
      "outputs": [],
      "source": []
    },
    {
      "cell_type": "markdown",
      "id": "5ddbccb3",
      "metadata": {
        "id": "5ddbccb3"
      },
      "source": [
        "Теперь выберите пару признаков с наибольшим коэффициентом корреляции. Как вы думаете, является ли такое значение достаточным, чтобы отвергнуть гипотезу об их независимости? Отобразите пару признаков на графике, проверьте своё предположение."
      ]
    },
    {
      "cell_type": "code",
      "execution_count": null,
      "id": "782e53fd",
      "metadata": {
        "id": "782e53fd"
      },
      "outputs": [],
      "source": [
        "# plt.scatter(..., ...)"
      ]
    },
    {
      "cell_type": "markdown",
      "id": "b3915154",
      "metadata": {
        "id": "b3915154"
      },
      "source": [
        "Теперь удалите из данных признак \"Label\" из найденной пары, который вам кажется менее влияющим на предсказание (напомню, мы пытаемся предсказать стоимость жилья). Сделать это можно так:"
      ]
    },
    {
      "cell_type": "code",
      "execution_count": null,
      "id": "6ef0dfb5",
      "metadata": {
        "id": "6ef0dfb5"
      },
      "outputs": [],
      "source": [
        "# X_train.drop(labels='Label', axis=1, inplace=True)\n",
        "# X_test.drop(labels='Label', axis=1, inplace=True)"
      ]
    },
    {
      "cell_type": "code",
      "execution_count": null,
      "id": "cca28f86",
      "metadata": {
        "id": "cca28f86"
      },
      "outputs": [],
      "source": [
        "# metrics.mean_squared_error(y_pred, y_test)"
      ]
    },
    {
      "cell_type": "markdown",
      "id": "e5bc6104",
      "metadata": {
        "id": "e5bc6104"
      },
      "source": [
        "Снова воспользуйтесь линейной регрессией, получите предсказания и сравните ошибку с предыдущей. Если ошибка не уменьшилась, попробуйте объяснить почему. Если она осталась прежней, предположите, стоит ли при использовании модели удалять данный признак из данных."
      ]
    },
    {
      "cell_type": "code",
      "execution_count": null,
      "id": "309c94a2",
      "metadata": {
        "id": "309c94a2"
      },
      "outputs": [],
      "source": []
    }
  ],
  "metadata": {
    "kernelspec": {
      "display_name": "Python 3 (ipykernel)",
      "language": "python",
      "name": "python3"
    },
    "language_info": {
      "codemirror_mode": {
        "name": "ipython",
        "version": 3
      },
      "file_extension": ".py",
      "mimetype": "text/x-python",
      "name": "python",
      "nbconvert_exporter": "python",
      "pygments_lexer": "ipython3",
      "version": "3.9.5"
    },
    "colab": {
      "provenance": []
    }
  },
  "nbformat": 4,
  "nbformat_minor": 5
}